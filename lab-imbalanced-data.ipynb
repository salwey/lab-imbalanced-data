{
 "cells": [
  {
   "cell_type": "markdown",
   "id": "adfeca81-d1da-44ee-bd6d-ac51fa350d73",
   "metadata": {},
   "source": [
    "# Lab Imbalanced Data"
   ]
  },
  {
   "cell_type": "markdown",
   "id": "39e721bc-9a83-486b-9ed2-b1e485790729",
   "metadata": {},
   "source": [
    "We will be using the files_for_lab/customer_churn.csv dataset to build a churn predictor.\n",
    "\n",
    "*Instructions*\n",
    "1. Load the dataset and explore the variables.\n",
    "2. We will try to predict variable Churn using a logistic regression on variables tenure, SeniorCitizen,MonthlyCharges.\n",
    "3. Extract the target variable.\n",
    "4. Extract the independent variables and scale them.\n",
    "5. Build the logistic regression model.\n",
    "6. Evaluate the model.\n",
    "7. Even a simple model will give us more than 70% accuracy. Why?\n",
    "8. Synthetic Minority Oversampling TEchnique (SMOTE) is an over sampling technique based on nearest neighbors that adds new points between existing points. Apply imblearn.over_sampling.SMOTE to the dataset. Build and evaluate the logistic regression model. Is it there any improvement?"
   ]
  },
  {
   "cell_type": "markdown",
   "id": "d0400070-ffa4-4cb7-a46d-00cec77bfec4",
   "metadata": {},
   "source": [
    "## Imports"
   ]
  },
  {
   "cell_type": "code",
   "execution_count": 1,
   "id": "b01748e8-c52a-4376-bff0-dc864e72b11f",
   "metadata": {},
   "outputs": [],
   "source": [
    "import imblearn\n",
    "import pandas as pd\n",
    "import numpy as np\n",
    "import matplotlib.pyplot as plt\n",
    "import seaborn as sns\n",
    "from sklearn.linear_model import LogisticRegression\n",
    "from sklearn.preprocessing import StandardScaler\n",
    "from sklearn.model_selection import train_test_split\n",
    "from sklearn.preprocessing import MinMaxScaler\n",
    "from sklearn.metrics import confusion_matrix\n",
    "from sklearn.metrics import precision_score\n",
    "from sklearn.metrics import recall_score\n",
    "from sklearn.metrics import f1_score\n",
    "from imblearn.over_sampling import SMOTE"
   ]
  },
  {
   "cell_type": "code",
   "execution_count": 2,
   "id": "0427bd38-ad37-4c98-9ce0-09b687965a6a",
   "metadata": {},
   "outputs": [
    {
     "data": {
      "text/html": [
       "<div>\n",
       "<style scoped>\n",
       "    .dataframe tbody tr th:only-of-type {\n",
       "        vertical-align: middle;\n",
       "    }\n",
       "\n",
       "    .dataframe tbody tr th {\n",
       "        vertical-align: top;\n",
       "    }\n",
       "\n",
       "    .dataframe thead th {\n",
       "        text-align: right;\n",
       "    }\n",
       "</style>\n",
       "<table border=\"1\" class=\"dataframe\">\n",
       "  <thead>\n",
       "    <tr style=\"text-align: right;\">\n",
       "      <th></th>\n",
       "      <th>customerID</th>\n",
       "      <th>gender</th>\n",
       "      <th>SeniorCitizen</th>\n",
       "      <th>Partner</th>\n",
       "      <th>Dependents</th>\n",
       "      <th>tenure</th>\n",
       "      <th>PhoneService</th>\n",
       "      <th>MultipleLines</th>\n",
       "      <th>InternetService</th>\n",
       "      <th>OnlineSecurity</th>\n",
       "      <th>...</th>\n",
       "      <th>DeviceProtection</th>\n",
       "      <th>TechSupport</th>\n",
       "      <th>StreamingTV</th>\n",
       "      <th>StreamingMovies</th>\n",
       "      <th>Contract</th>\n",
       "      <th>PaperlessBilling</th>\n",
       "      <th>PaymentMethod</th>\n",
       "      <th>MonthlyCharges</th>\n",
       "      <th>TotalCharges</th>\n",
       "      <th>Churn</th>\n",
       "    </tr>\n",
       "  </thead>\n",
       "  <tbody>\n",
       "    <tr>\n",
       "      <th>0</th>\n",
       "      <td>7590-VHVEG</td>\n",
       "      <td>Female</td>\n",
       "      <td>0</td>\n",
       "      <td>Yes</td>\n",
       "      <td>No</td>\n",
       "      <td>1</td>\n",
       "      <td>No</td>\n",
       "      <td>No phone service</td>\n",
       "      <td>DSL</td>\n",
       "      <td>No</td>\n",
       "      <td>...</td>\n",
       "      <td>No</td>\n",
       "      <td>No</td>\n",
       "      <td>No</td>\n",
       "      <td>No</td>\n",
       "      <td>Month-to-month</td>\n",
       "      <td>Yes</td>\n",
       "      <td>Electronic check</td>\n",
       "      <td>29.85</td>\n",
       "      <td>29.85</td>\n",
       "      <td>No</td>\n",
       "    </tr>\n",
       "    <tr>\n",
       "      <th>1</th>\n",
       "      <td>5575-GNVDE</td>\n",
       "      <td>Male</td>\n",
       "      <td>0</td>\n",
       "      <td>No</td>\n",
       "      <td>No</td>\n",
       "      <td>34</td>\n",
       "      <td>Yes</td>\n",
       "      <td>No</td>\n",
       "      <td>DSL</td>\n",
       "      <td>Yes</td>\n",
       "      <td>...</td>\n",
       "      <td>Yes</td>\n",
       "      <td>No</td>\n",
       "      <td>No</td>\n",
       "      <td>No</td>\n",
       "      <td>One year</td>\n",
       "      <td>No</td>\n",
       "      <td>Mailed check</td>\n",
       "      <td>56.95</td>\n",
       "      <td>1889.5</td>\n",
       "      <td>No</td>\n",
       "    </tr>\n",
       "    <tr>\n",
       "      <th>2</th>\n",
       "      <td>3668-QPYBK</td>\n",
       "      <td>Male</td>\n",
       "      <td>0</td>\n",
       "      <td>No</td>\n",
       "      <td>No</td>\n",
       "      <td>2</td>\n",
       "      <td>Yes</td>\n",
       "      <td>No</td>\n",
       "      <td>DSL</td>\n",
       "      <td>Yes</td>\n",
       "      <td>...</td>\n",
       "      <td>No</td>\n",
       "      <td>No</td>\n",
       "      <td>No</td>\n",
       "      <td>No</td>\n",
       "      <td>Month-to-month</td>\n",
       "      <td>Yes</td>\n",
       "      <td>Mailed check</td>\n",
       "      <td>53.85</td>\n",
       "      <td>108.15</td>\n",
       "      <td>Yes</td>\n",
       "    </tr>\n",
       "    <tr>\n",
       "      <th>3</th>\n",
       "      <td>7795-CFOCW</td>\n",
       "      <td>Male</td>\n",
       "      <td>0</td>\n",
       "      <td>No</td>\n",
       "      <td>No</td>\n",
       "      <td>45</td>\n",
       "      <td>No</td>\n",
       "      <td>No phone service</td>\n",
       "      <td>DSL</td>\n",
       "      <td>Yes</td>\n",
       "      <td>...</td>\n",
       "      <td>Yes</td>\n",
       "      <td>Yes</td>\n",
       "      <td>No</td>\n",
       "      <td>No</td>\n",
       "      <td>One year</td>\n",
       "      <td>No</td>\n",
       "      <td>Bank transfer (automatic)</td>\n",
       "      <td>42.30</td>\n",
       "      <td>1840.75</td>\n",
       "      <td>No</td>\n",
       "    </tr>\n",
       "    <tr>\n",
       "      <th>4</th>\n",
       "      <td>9237-HQITU</td>\n",
       "      <td>Female</td>\n",
       "      <td>0</td>\n",
       "      <td>No</td>\n",
       "      <td>No</td>\n",
       "      <td>2</td>\n",
       "      <td>Yes</td>\n",
       "      <td>No</td>\n",
       "      <td>Fiber optic</td>\n",
       "      <td>No</td>\n",
       "      <td>...</td>\n",
       "      <td>No</td>\n",
       "      <td>No</td>\n",
       "      <td>No</td>\n",
       "      <td>No</td>\n",
       "      <td>Month-to-month</td>\n",
       "      <td>Yes</td>\n",
       "      <td>Electronic check</td>\n",
       "      <td>70.70</td>\n",
       "      <td>151.65</td>\n",
       "      <td>Yes</td>\n",
       "    </tr>\n",
       "  </tbody>\n",
       "</table>\n",
       "<p>5 rows × 21 columns</p>\n",
       "</div>"
      ],
      "text/plain": [
       "   customerID  gender  SeniorCitizen Partner Dependents  tenure PhoneService  \\\n",
       "0  7590-VHVEG  Female              0     Yes         No       1           No   \n",
       "1  5575-GNVDE    Male              0      No         No      34          Yes   \n",
       "2  3668-QPYBK    Male              0      No         No       2          Yes   \n",
       "3  7795-CFOCW    Male              0      No         No      45           No   \n",
       "4  9237-HQITU  Female              0      No         No       2          Yes   \n",
       "\n",
       "      MultipleLines InternetService OnlineSecurity  ... DeviceProtection  \\\n",
       "0  No phone service             DSL             No  ...               No   \n",
       "1                No             DSL            Yes  ...              Yes   \n",
       "2                No             DSL            Yes  ...               No   \n",
       "3  No phone service             DSL            Yes  ...              Yes   \n",
       "4                No     Fiber optic             No  ...               No   \n",
       "\n",
       "  TechSupport StreamingTV StreamingMovies        Contract PaperlessBilling  \\\n",
       "0          No          No              No  Month-to-month              Yes   \n",
       "1          No          No              No        One year               No   \n",
       "2          No          No              No  Month-to-month              Yes   \n",
       "3         Yes          No              No        One year               No   \n",
       "4          No          No              No  Month-to-month              Yes   \n",
       "\n",
       "               PaymentMethod MonthlyCharges  TotalCharges Churn  \n",
       "0           Electronic check          29.85         29.85    No  \n",
       "1               Mailed check          56.95        1889.5    No  \n",
       "2               Mailed check          53.85        108.15   Yes  \n",
       "3  Bank transfer (automatic)          42.30       1840.75    No  \n",
       "4           Electronic check          70.70        151.65   Yes  \n",
       "\n",
       "[5 rows x 21 columns]"
      ]
     },
     "execution_count": 2,
     "metadata": {},
     "output_type": "execute_result"
    }
   ],
   "source": [
    "customers = pd.read_csv('files_for_lab/customer_churn.csv')\n",
    "customers.head()"
   ]
  },
  {
   "cell_type": "code",
   "execution_count": 3,
   "id": "73a21c48-09c8-4400-961a-cc327f57f07f",
   "metadata": {},
   "outputs": [],
   "source": [
    "# 2 lets just start with the suggest columns to use - if time can always come back to the rest of the data to see if it is useful...\n",
    "customers = customers[['SeniorCitizen','tenure','MonthlyCharges','Churn']]"
   ]
  },
  {
   "cell_type": "code",
   "execution_count": 4,
   "id": "75c6c529-3d3c-42c6-b5ed-882be28b82f2",
   "metadata": {},
   "outputs": [],
   "source": [
    "# initial thoughts \n",
    "# - SeniorCitizen will they be more or less likely to churn?\n",
    "# - tenure, longer duration customers I suspect would be less likely to churn\n",
    "# - monthlycharges, maybe the higher the charge the more likely the churn"
   ]
  },
  {
   "cell_type": "code",
   "execution_count": 5,
   "id": "dda00d74-28b2-4cb7-8239-36152e01da23",
   "metadata": {},
   "outputs": [
    {
     "data": {
      "text/plain": [
       "SeniorCitizen       int64\n",
       "tenure              int64\n",
       "MonthlyCharges    float64\n",
       "Churn              object\n",
       "dtype: object"
      ]
     },
     "execution_count": 5,
     "metadata": {},
     "output_type": "execute_result"
    }
   ],
   "source": [
    "customers.dtypes"
   ]
  },
  {
   "cell_type": "code",
   "execution_count": 6,
   "id": "834c1d63-68da-4a2f-885a-c89406d10740",
   "metadata": {},
   "outputs": [],
   "source": [
    "# we have all numerical values, at least in this initial dataset apart from our target which is Yes/No - lets convert this to 0/1 but first lets check for nulls"
   ]
  },
  {
   "cell_type": "code",
   "execution_count": 7,
   "id": "4dcbca9d-4d8d-471d-9f96-3d7dc0f032a1",
   "metadata": {},
   "outputs": [
    {
     "data": {
      "text/plain": [
       "SeniorCitizen     0\n",
       "tenure            0\n",
       "MonthlyCharges    0\n",
       "Churn             0\n",
       "dtype: int64"
      ]
     },
     "execution_count": 7,
     "metadata": {},
     "output_type": "execute_result"
    }
   ],
   "source": [
    "customers.isna().sum() # all good on the null front..."
   ]
  },
  {
   "cell_type": "code",
   "execution_count": 8,
   "id": "36d70b4f-53bc-407b-8805-29931f95cca5",
   "metadata": {},
   "outputs": [],
   "source": [
    "# actually, lets make column names lower first...\n",
    "customers.columns = list(map(lambda x:x.lower(),customers.columns))"
   ]
  },
  {
   "cell_type": "code",
   "execution_count": 9,
   "id": "e76fce50-4dce-4709-847b-5b7bcefacf81",
   "metadata": {},
   "outputs": [],
   "source": [
    "yesno = {'Yes':1,'No':0}\n",
    "customers['churn'] = customers['churn'].map(yesno)"
   ]
  },
  {
   "cell_type": "code",
   "execution_count": 10,
   "id": "68434494-c336-4bc3-88d5-8f995ce3bbf1",
   "metadata": {},
   "outputs": [
    {
     "data": {
      "text/html": [
       "<div>\n",
       "<style scoped>\n",
       "    .dataframe tbody tr th:only-of-type {\n",
       "        vertical-align: middle;\n",
       "    }\n",
       "\n",
       "    .dataframe tbody tr th {\n",
       "        vertical-align: top;\n",
       "    }\n",
       "\n",
       "    .dataframe thead th {\n",
       "        text-align: right;\n",
       "    }\n",
       "</style>\n",
       "<table border=\"1\" class=\"dataframe\">\n",
       "  <thead>\n",
       "    <tr style=\"text-align: right;\">\n",
       "      <th></th>\n",
       "      <th>seniorcitizen</th>\n",
       "      <th>tenure</th>\n",
       "      <th>monthlycharges</th>\n",
       "      <th>churn</th>\n",
       "    </tr>\n",
       "  </thead>\n",
       "  <tbody>\n",
       "    <tr>\n",
       "      <th>0</th>\n",
       "      <td>0</td>\n",
       "      <td>1</td>\n",
       "      <td>29.85</td>\n",
       "      <td>0</td>\n",
       "    </tr>\n",
       "    <tr>\n",
       "      <th>1</th>\n",
       "      <td>0</td>\n",
       "      <td>34</td>\n",
       "      <td>56.95</td>\n",
       "      <td>0</td>\n",
       "    </tr>\n",
       "    <tr>\n",
       "      <th>2</th>\n",
       "      <td>0</td>\n",
       "      <td>2</td>\n",
       "      <td>53.85</td>\n",
       "      <td>1</td>\n",
       "    </tr>\n",
       "    <tr>\n",
       "      <th>3</th>\n",
       "      <td>0</td>\n",
       "      <td>45</td>\n",
       "      <td>42.30</td>\n",
       "      <td>0</td>\n",
       "    </tr>\n",
       "    <tr>\n",
       "      <th>4</th>\n",
       "      <td>0</td>\n",
       "      <td>2</td>\n",
       "      <td>70.70</td>\n",
       "      <td>1</td>\n",
       "    </tr>\n",
       "  </tbody>\n",
       "</table>\n",
       "</div>"
      ],
      "text/plain": [
       "   seniorcitizen  tenure  monthlycharges  churn\n",
       "0              0       1           29.85      0\n",
       "1              0      34           56.95      0\n",
       "2              0       2           53.85      1\n",
       "3              0      45           42.30      0\n",
       "4              0       2           70.70      1"
      ]
     },
     "execution_count": 10,
     "metadata": {},
     "output_type": "execute_result"
    }
   ],
   "source": [
    "customers.head()"
   ]
  },
  {
   "cell_type": "code",
   "execution_count": 11,
   "id": "636814e0-8913-4748-93ce-6afd3f660f46",
   "metadata": {},
   "outputs": [
    {
     "data": {
      "text/plain": [
       "(7043, 4)"
      ]
     },
     "execution_count": 11,
     "metadata": {},
     "output_type": "execute_result"
    }
   ],
   "source": [
    "customers.shape"
   ]
  },
  {
   "cell_type": "code",
   "execution_count": 12,
   "id": "1c4664db-2211-4fd4-a526-e3d39303a729",
   "metadata": {},
   "outputs": [
    {
     "data": {
      "text/html": [
       "<div>\n",
       "<style scoped>\n",
       "    .dataframe tbody tr th:only-of-type {\n",
       "        vertical-align: middle;\n",
       "    }\n",
       "\n",
       "    .dataframe tbody tr th {\n",
       "        vertical-align: top;\n",
       "    }\n",
       "\n",
       "    .dataframe thead th {\n",
       "        text-align: right;\n",
       "    }\n",
       "</style>\n",
       "<table border=\"1\" class=\"dataframe\">\n",
       "  <thead>\n",
       "    <tr style=\"text-align: right;\">\n",
       "      <th></th>\n",
       "      <th>seniorcitizen</th>\n",
       "      <th>tenure</th>\n",
       "      <th>monthlycharges</th>\n",
       "      <th>churn</th>\n",
       "    </tr>\n",
       "  </thead>\n",
       "  <tbody>\n",
       "    <tr>\n",
       "      <th>count</th>\n",
       "      <td>7043.000000</td>\n",
       "      <td>7043.000000</td>\n",
       "      <td>7043.000000</td>\n",
       "      <td>7043.000000</td>\n",
       "    </tr>\n",
       "    <tr>\n",
       "      <th>mean</th>\n",
       "      <td>0.162147</td>\n",
       "      <td>32.371149</td>\n",
       "      <td>64.761692</td>\n",
       "      <td>0.265370</td>\n",
       "    </tr>\n",
       "    <tr>\n",
       "      <th>std</th>\n",
       "      <td>0.368612</td>\n",
       "      <td>24.559481</td>\n",
       "      <td>30.090047</td>\n",
       "      <td>0.441561</td>\n",
       "    </tr>\n",
       "    <tr>\n",
       "      <th>min</th>\n",
       "      <td>0.000000</td>\n",
       "      <td>0.000000</td>\n",
       "      <td>18.250000</td>\n",
       "      <td>0.000000</td>\n",
       "    </tr>\n",
       "    <tr>\n",
       "      <th>25%</th>\n",
       "      <td>0.000000</td>\n",
       "      <td>9.000000</td>\n",
       "      <td>35.500000</td>\n",
       "      <td>0.000000</td>\n",
       "    </tr>\n",
       "    <tr>\n",
       "      <th>50%</th>\n",
       "      <td>0.000000</td>\n",
       "      <td>29.000000</td>\n",
       "      <td>70.350000</td>\n",
       "      <td>0.000000</td>\n",
       "    </tr>\n",
       "    <tr>\n",
       "      <th>75%</th>\n",
       "      <td>0.000000</td>\n",
       "      <td>55.000000</td>\n",
       "      <td>89.850000</td>\n",
       "      <td>1.000000</td>\n",
       "    </tr>\n",
       "    <tr>\n",
       "      <th>max</th>\n",
       "      <td>1.000000</td>\n",
       "      <td>72.000000</td>\n",
       "      <td>118.750000</td>\n",
       "      <td>1.000000</td>\n",
       "    </tr>\n",
       "  </tbody>\n",
       "</table>\n",
       "</div>"
      ],
      "text/plain": [
       "       seniorcitizen       tenure  monthlycharges        churn\n",
       "count    7043.000000  7043.000000     7043.000000  7043.000000\n",
       "mean        0.162147    32.371149       64.761692     0.265370\n",
       "std         0.368612    24.559481       30.090047     0.441561\n",
       "min         0.000000     0.000000       18.250000     0.000000\n",
       "25%         0.000000     9.000000       35.500000     0.000000\n",
       "50%         0.000000    29.000000       70.350000     0.000000\n",
       "75%         0.000000    55.000000       89.850000     1.000000\n",
       "max         1.000000    72.000000      118.750000     1.000000"
      ]
     },
     "execution_count": 12,
     "metadata": {},
     "output_type": "execute_result"
    }
   ],
   "source": [
    "customers.describe()"
   ]
  },
  {
   "cell_type": "code",
   "execution_count": 13,
   "id": "7c6068ed-e2af-49d0-bb28-79a5b2b488bf",
   "metadata": {},
   "outputs": [],
   "source": [
    "y = customers[['churn']]\n",
    "X = customers.drop(['churn'],axis=1)"
   ]
  },
  {
   "cell_type": "code",
   "execution_count": 14,
   "id": "b331336b-cdc2-48c8-8d33-70de7c7b0217",
   "metadata": {},
   "outputs": [
    {
     "data": {
      "text/plain": [
       "churn    0.26537\n",
       "dtype: float64"
      ]
     },
     "execution_count": 14,
     "metadata": {},
     "output_type": "execute_result"
    }
   ],
   "source": [
    "y[y.churn == 1].sum() / len(y) # 26% have churned - would you believe it, we have... dun, dun dun... imblance! We also see this in the describe for mean churn..."
   ]
  },
  {
   "cell_type": "code",
   "execution_count": 15,
   "id": "af44849b-8af1-4c03-b692-06b613627c04",
   "metadata": {},
   "outputs": [
    {
     "data": {
      "image/png": "[encoded data removed]",
      "text/plain": [
       "<Figure size 720x576 with 2 Axes>"
      ]
     },
     "metadata": {},
     "output_type": "display_data"
    }
   ],
   "source": [
    "correlations_matrix = customers.corr()\n",
    "fig, ax = plt.subplots(figsize=(10, 8))\n",
    "g = sns.heatmap(correlations_matrix.apply(abs), annot=True)\n",
    "for tick_label in g.axes.get_yticklabels():\n",
    "    tick_label.set_color(\"grey\")\n",
    "    tick_label.set_fontsize(\"10\")\n",
    "for tick_label in g.axes.get_xticklabels():\n",
    "    tick_label.set_color(\"grey\")\n",
    "    tick_label.set_fontsize(\"10\")\n",
    "plt.show()"
   ]
  },
  {
   "cell_type": "markdown",
   "id": "60d1309a-c920-461a-ac0f-3457597d44a5",
   "metadata": {},
   "source": [
    "*charts...they make the workbook look good*\n",
    "\n",
    "...though added after the running the models but figured I shoulda checked even though we were given the columns to use. At first glance I was surprised tenure had low (from colour) correlation with churn...though it was just a negative correlation. applying abs to the correlation matrix fixes the heatmap. confirms initial suspcision that tenure was the most correlated with churn but our senior citizen and monthly charges are also somewhat correlated."
   ]
  },
  {
   "cell_type": "code",
   "execution_count": 107,
   "id": "ba97e654-de9b-4aa5-be9a-6a290a41d05c",
   "metadata": {},
   "outputs": [],
   "source": [
    "# lets xy split\n",
    "X_train, X_test, y_train, y_test = train_test_split(X,y,random_state = 42)\n",
    "\n",
    "# Scaling data\n",
    "transformer = MinMaxScaler().fit(X_train)\n",
    "X_train_normalized = transformer.transform(X_train)\n",
    "X_train_norm = pd.DataFrame(X_train_normalized)\n",
    "\n",
    "\n",
    "# no categorical data currently, lets just set the variable to keep edits down\n",
    "#X_train_transformed = np.concatenate((X_train_norm, X_train_cat), axis=1)\n",
    "X_train_transformed = X_train_norm\n",
    "X_train_transformed.columns = ['seniorcitizen','tenure','monthlycharges']\n",
    "\n",
    "\n",
    "#classification = LogisticRegression(random_state=0, solver='lbfgs',\n",
    "#                  multi_class='multinomial').fit(X_train_transformed, y_train.values.ravel())\n",
    "LR = LogisticRegression(random_state=0, solver='lbfgs')\n",
    "LR.fit(X_train_transformed, y_train.values.ravel())\n",
    "\n",
    "X_test_num = X_test.select_dtypes(np.number)\n",
    "\n",
    "#apply the transformer without refit to our test set\n",
    "X_test_normalized = transformer.transform(X_test_num)\n",
    "X_test_norm = pd.DataFrame(X_test_normalized)\n",
    "X_test_norm.columns = ['seniorcitizen','tenure','monthlycharges']\n",
    "\n",
    "#display(LR.score(X_test_norm, y_test))\n",
    "\n",
    "# no categorical datas\n",
    "    #X_test_categorical = X_test.select_dtypes(object)\n",
    "    #X_test_categorical = X_test_categorical.drop(['title'],axis=1)\n",
    "    #X_test_cat = pd.get_dummies(X_test_categorical, columns=['category'], drop_first=True)\n",
    "\n",
    "    #display(list(zip(list(X_train_cat.columns), list(X_test_cat.columns))))\n",
    "    #X_test_cat.head()"
   ]
  },
  {
   "cell_type": "code",
   "execution_count": 108,
   "id": "1057a7cf-37f0-49b5-b16d-2894173277d2",
   "metadata": {},
   "outputs": [
    {
     "name": "stdout",
     "output_type": "stream",
     "text": [
      "precision:  0.7012987012987013\n",
      "recall:  0.4509394572025052\n",
      "f1:  0.5489199491740788\n"
     ]
    },
    {
     "data": {
      "text/plain": [
       "array([[1190,   92],\n",
       "       [ 263,  216]], dtype=int64)"
      ]
     },
     "execution_count": 108,
     "metadata": {},
     "output_type": "execute_result"
    }
   ],
   "source": [
    "\n",
    "pred = LR.predict(X_test_norm)\n",
    "\n",
    "print(\"precision: \",precision_score(y_test,pred))\n",
    "print(\"recall: \",recall_score(y_test,pred))\n",
    "print(\"f1: \",f1_score(y_test,pred))\n",
    "confusion_matrix(y_test, pred)"
   ]
  },
  {
   "cell_type": "code",
   "execution_count": 109,
   "id": "8d9523bd-a6da-47c9-8a11-f20918580d51",
   "metadata": {},
   "outputs": [
    {
     "data": {
      "text/plain": [
       "0.7984099943214082"
      ]
     },
     "execution_count": 109,
     "metadata": {},
     "output_type": "execute_result"
    }
   ],
   "source": [
    "LR.score(X_test_norm, y_test)"
   ]
  },
  {
   "cell_type": "markdown",
   "id": "6d770bb5-edc4-4fe5-b28d-b95653d3ab3e",
   "metadata": {},
   "source": [
    "### Even a simple ~model~ wodel will give us more than 70% accuracy. Why?"
   ]
  },
  {
   "cell_type": "markdown",
   "id": "1a5af25d-eff8-45ac-ae59-c0cb0f787522",
   "metadata": {},
   "source": [
    "As only around a quarter of the customers will churn, even a model that predicting no churn for everyone will score over 70% so our wodel at this point is just a slight improvement over this."
   ]
  },
  {
   "cell_type": "markdown",
   "id": "d1e23ce7-c720-41ff-a503-283a4440fd56",
   "metadata": {
    "tags": []
   },
   "source": [
    "### Punk Rock tried to kill the metal\n",
    "### But they failed, as they were **SMOTE** to the ground"
   ]
  },
  {
   "cell_type": "code",
   "execution_count": 112,
   "id": "03db3e97-cbbd-4b43-9176-ce4c47e91508",
   "metadata": {},
   "outputs": [
    {
     "name": "stdout",
     "output_type": "stream",
     "text": [
      "precision:  0.5167597765363129\n",
      "recall:  0.7724425887265136\n",
      "f1:  0.6192468619246861\n"
     ]
    }
   ],
   "source": [
    "rec = []\n",
    "#for i in range(0,500):\n",
    "sm = SMOTE(random_state=97,k_neighbors=21)\n",
    "X_train_SMOTE,y_train_SMOTE = sm.fit_resample(X_train_transformed,y_train.values.ravel()) # need to ravel to prevent dirty warnings...\n",
    "X_train_SMOTE.shape\n",
    "\n",
    "LR2 = LogisticRegression(max_iter=1000)\n",
    "LR2.fit(X_train_SMOTE, y_train_SMOTE)\n",
    "pred = LR2.predict(X_test_norm)\n",
    "\n",
    "rec.append((i,(recall_score(y_test,pred))))\n",
    "print(\"precision: \",precision_score(y_test,pred))\n",
    "print(\"recall: \",recall_score(y_test,pred))\n",
    "print(\"f1: \",f1_score(y_test,pred))"
   ]
  },
  {
   "cell_type": "code",
   "execution_count": 111,
   "id": "617b56ef-c1cc-4719-b40b-dfb4bdfb13e6",
   "metadata": {
    "tags": []
   },
   "outputs": [
    {
     "data": {
      "text/html": [
       "<div>\n",
       "<style scoped>\n",
       "    .dataframe tbody tr th:only-of-type {\n",
       "        vertical-align: middle;\n",
       "    }\n",
       "\n",
       "    .dataframe tbody tr th {\n",
       "        vertical-align: top;\n",
       "    }\n",
       "\n",
       "    .dataframe thead th {\n",
       "        text-align: right;\n",
       "    }\n",
       "</style>\n",
       "<table border=\"1\" class=\"dataframe\">\n",
       "  <thead>\n",
       "    <tr style=\"text-align: right;\">\n",
       "      <th></th>\n",
       "      <th>Iteration</th>\n",
       "      <th>Recall</th>\n",
       "    </tr>\n",
       "  </thead>\n",
       "  <tbody>\n",
       "    <tr>\n",
       "      <th>0</th>\n",
       "      <td>499</td>\n",
       "      <td>0.772443</td>\n",
       "    </tr>\n",
       "  </tbody>\n",
       "</table>\n",
       "</div>"
      ],
      "text/plain": [
       "   Iteration    Recall\n",
       "0        499  0.772443"
      ]
     },
     "execution_count": 111,
     "metadata": {},
     "output_type": "execute_result"
    }
   ],
   "source": [
    "rec = pd.DataFrame(rec, columns=['Iteration','Recall'])\n",
    "rec[rec['Recall']==rec['Recall'].max()]"
   ]
  },
  {
   "cell_type": "code",
   "execution_count": 113,
   "id": "74ae3aaa-903f-458b-86ee-4e9be41f98af",
   "metadata": {},
   "outputs": [
    {
     "data": {
      "text/plain": [
       "array([[936, 346],\n",
       "       [109, 370]], dtype=int64)"
      ]
     },
     "execution_count": 113,
     "metadata": {},
     "output_type": "execute_result"
    }
   ],
   "source": [
    "confusion_matrix(y_test,pred)"
   ]
  },
  {
   "cell_type": "code",
   "execution_count": 59,
   "id": "790efc5d-adf5-4211-97bf-705092622f33",
   "metadata": {},
   "outputs": [
    {
     "data": {
      "text/plain": [
       "0.740488358886996"
      ]
     },
     "execution_count": 59,
     "metadata": {},
     "output_type": "execute_result"
    }
   ],
   "source": [
    "LR2.score(X_test_norm, y_test)"
   ]
  },
  {
   "cell_type": "markdown",
   "id": "74ccb140-2cfb-408d-8d09-159598d19f53",
   "metadata": {},
   "source": [
    "#### *at the cose of precision we've significantly improved recall*"
   ]
  },
  {
   "cell_type": "markdown",
   "id": "3e135ed8-69dd-4ad8-8b8b-e285678446f1",
   "metadata": {},
   "source": [
    "### Oversampling"
   ]
  },
  {
   "cell_type": "code",
   "execution_count": 40,
   "id": "7ac97f17-6da5-4698-8f86-0fa32ab74877",
   "metadata": {
    "id": "ync9VxfK5LVU"
   },
   "outputs": [],
   "source": [
    "from sklearn.utils import resample"
   ]
  },
  {
   "cell_type": "code",
   "execution_count": 41,
   "id": "ad0c8bcb-590b-4179-921e-7dcb9c305025",
   "metadata": {
    "colab": {
     "base_uri": "https://localhost:8080/",
     "height": 204
    },
    "id": "Z_zew0pq5NxU",
    "outputId": "2968d94b-ce31-4036-b427-4878d531780b"
   },
   "outputs": [],
   "source": [
    "# oversampling / undersampling is only to be done on the TRAINING set\n",
    "# our test set still must reflect reality!\n",
    "X_train_norm=X_train_norm.reset_index(drop=True)\n",
    "y_train=y_train.reset_index(drop=True)\n",
    "train = pd.concat([X_train_norm, y_train],axis=1)"
   ]
  },
  {
   "cell_type": "code",
   "execution_count": 42,
   "id": "83264744-b6b6-4f80-8d3e-9ab4eff5cdec",
   "metadata": {},
   "outputs": [
    {
     "data": {
      "text/plain": [
       "seniorcitizen     0\n",
       "tenure            0\n",
       "monthlycharges    0\n",
       "churn             0\n",
       "dtype: int64"
      ]
     },
     "metadata": {},
     "output_type": "display_data"
    },
    {
     "data": {
      "text/plain": [
       "seniorcitizen     0\n",
       "tenure            0\n",
       "monthlycharges    0\n",
       "dtype: int64"
      ]
     },
     "metadata": {},
     "output_type": "display_data"
    },
    {
     "data": {
      "text/plain": [
       "churn    0\n",
       "dtype: int64"
      ]
     },
     "metadata": {},
     "output_type": "display_data"
    }
   ],
   "source": [
    "display(train.isna().sum())\n",
    "display(X_train_norm.isna().sum())\n",
    "display(y_train.isna().sum())"
   ]
  },
  {
   "cell_type": "code",
   "execution_count": 43,
   "id": "f230cd45-63a2-4765-8728-8a84b8726d2d",
   "metadata": {
    "id": "dy6E34fD5SDX"
   },
   "outputs": [],
   "source": [
    "# separate majority/minority classes\n",
    "no_churn = train[train['churn']==0]\n",
    "yes_churn = train[train['churn']==1]"
   ]
  },
  {
   "cell_type": "code",
   "execution_count": 44,
   "id": "0a42b7b5-58d3-43b4-95f6-da7ca2a487fb",
   "metadata": {},
   "outputs": [
    {
     "data": {
      "text/plain": [
       "(3892, 4)"
      ]
     },
     "metadata": {},
     "output_type": "display_data"
    },
    {
     "data": {
      "text/plain": [
       "(1390, 4)"
      ]
     },
     "metadata": {},
     "output_type": "display_data"
    }
   ],
   "source": [
    "display(no_churn.shape)\n",
    "display(yes_churn.shape)"
   ]
  },
  {
   "cell_type": "code",
   "execution_count": 45,
   "id": "c2126446-3b68-418d-9c20-391c1ee72c1a",
   "metadata": {
    "id": "gauYiWFF5VJN"
   },
   "outputs": [],
   "source": [
    "# oversample minority\n",
    "yes_churn_oversampled = resample(yes_churn, #<- sample from here\n",
    "                                    replace=True, #<- we need replacement, since we don't have enough data otherwise\n",
    "                                    n_samples = len(no_churn),#<- make both sets the same size\n",
    "                                    random_state=0)"
   ]
  },
  {
   "cell_type": "code",
   "execution_count": 46,
   "id": "fa9cbd4b-6fd9-463e-b83b-74c83eb8e885",
   "metadata": {
    "colab": {
     "base_uri": "https://localhost:8080/",
     "height": 51
    },
    "id": "flJ86yzu5YuG",
    "outputId": "8afbc080-ce38-41ea-9a2d-ee587cf71d44"
   },
   "outputs": [
    {
     "data": {
      "text/plain": [
       "(3892, 4)"
      ]
     },
     "metadata": {},
     "output_type": "display_data"
    },
    {
     "data": {
      "text/plain": [
       "(3892, 4)"
      ]
     },
     "metadata": {},
     "output_type": "display_data"
    }
   ],
   "source": [
    "# both sets are now of a reasonable size\n",
    "display(no_churn.shape)\n",
    "display(yes_churn_oversampled.shape)"
   ]
  },
  {
   "cell_type": "code",
   "execution_count": 47,
   "id": "ec9c568b-5bcd-4e81-974d-318d0b9508e7",
   "metadata": {
    "colab": {
     "base_uri": "https://localhost:8080/",
     "height": 204
    },
    "id": "1VOIOECx5ZX8",
    "outputId": "26b4e144-d570-4f58-8ba3-8f30b6465aa0"
   },
   "outputs": [
    {
     "data": {
      "text/html": [
       "<div>\n",
       "<style scoped>\n",
       "    .dataframe tbody tr th:only-of-type {\n",
       "        vertical-align: middle;\n",
       "    }\n",
       "\n",
       "    .dataframe tbody tr th {\n",
       "        vertical-align: top;\n",
       "    }\n",
       "\n",
       "    .dataframe thead th {\n",
       "        text-align: right;\n",
       "    }\n",
       "</style>\n",
       "<table border=\"1\" class=\"dataframe\">\n",
       "  <thead>\n",
       "    <tr style=\"text-align: right;\">\n",
       "      <th></th>\n",
       "      <th>seniorcitizen</th>\n",
       "      <th>tenure</th>\n",
       "      <th>monthlycharges</th>\n",
       "      <th>churn</th>\n",
       "    </tr>\n",
       "  </thead>\n",
       "  <tbody>\n",
       "    <tr>\n",
       "      <th>3867</th>\n",
       "      <td>1.0</td>\n",
       "      <td>0.027778</td>\n",
       "      <td>0.754858</td>\n",
       "      <td>1</td>\n",
       "    </tr>\n",
       "    <tr>\n",
       "      <th>4161</th>\n",
       "      <td>1.0</td>\n",
       "      <td>0.222222</td>\n",
       "      <td>0.206776</td>\n",
       "      <td>1</td>\n",
       "    </tr>\n",
       "    <tr>\n",
       "      <th>2804</th>\n",
       "      <td>0.0</td>\n",
       "      <td>0.347222</td>\n",
       "      <td>0.706029</td>\n",
       "      <td>1</td>\n",
       "    </tr>\n",
       "    <tr>\n",
       "      <th>768</th>\n",
       "      <td>0.0</td>\n",
       "      <td>0.680556</td>\n",
       "      <td>0.805182</td>\n",
       "      <td>1</td>\n",
       "    </tr>\n",
       "    <tr>\n",
       "      <th>3969</th>\n",
       "      <td>0.0</td>\n",
       "      <td>0.097222</td>\n",
       "      <td>0.009965</td>\n",
       "      <td>1</td>\n",
       "    </tr>\n",
       "  </tbody>\n",
       "</table>\n",
       "</div>"
      ],
      "text/plain": [
       "      seniorcitizen    tenure  monthlycharges  churn\n",
       "3867            1.0  0.027778        0.754858      1\n",
       "4161            1.0  0.222222        0.206776      1\n",
       "2804            0.0  0.347222        0.706029      1\n",
       "768             0.0  0.680556        0.805182      1\n",
       "3969            0.0  0.097222        0.009965      1"
      ]
     },
     "execution_count": 47,
     "metadata": {},
     "output_type": "execute_result"
    }
   ],
   "source": [
    "train_oversampled = pd.concat([no_churn,yes_churn_oversampled],axis=0)\n",
    "train_oversampled.tail()"
   ]
  },
  {
   "cell_type": "code",
   "execution_count": 48,
   "id": "156cbf30-8247-492e-805a-02f0ea7d6560",
   "metadata": {
    "id": "0e8ZfPsj5cms"
   },
   "outputs": [],
   "source": [
    "y_train_over = train_oversampled['churn'].copy()\n",
    "X_train_over = train_oversampled.drop('churn',axis = 1).copy()"
   ]
  },
  {
   "cell_type": "code",
   "execution_count": 51,
   "id": "72f7b9c9-42dd-434d-8113-ccb24e39ba7b",
   "metadata": {
    "colab": {
     "base_uri": "https://localhost:8080/"
    },
    "id": "H5oJqoMV5dIl",
    "outputId": "5e0bf162-f11b-4ed3-eddc-a67898d2821e"
   },
   "outputs": [
    {
     "name": "stdout",
     "output_type": "stream",
     "text": [
      "precision:  0.5162659123055162\n",
      "recall:  0.7620041753653445\n",
      "f1:  0.6155143338954469\n"
     ]
    }
   ],
   "source": [
    "LR3 = LogisticRegression(max_iter=1000)\n",
    "LR3.fit(X_train_over, y_train_over)\n",
    "pred = LR3.predict(X_test_norm)\n",
    "\n",
    "print(\"precision: \",precision_score(y_test,pred))\n",
    "print(\"recall: \",recall_score(y_test,pred))\n",
    "print(\"f1: \",f1_score(y_test,pred))"
   ]
  },
  {
   "cell_type": "code",
   "execution_count": 52,
   "id": "51c7fdf2-c577-420e-a434-e35c64b81f7b",
   "metadata": {
    "colab": {
     "base_uri": "https://localhost:8080/"
    },
    "id": "uclc5Jk05erW",
    "outputId": "ff21980f-a1ba-456a-d84d-b71239c75e04",
    "tags": []
   },
   "outputs": [
    {
     "data": {
      "text/plain": [
       "array([[940, 342],\n",
       "       [114, 365]], dtype=int64)"
      ]
     },
     "execution_count": 52,
     "metadata": {},
     "output_type": "execute_result"
    }
   ],
   "source": [
    "confusion_matrix(y_test,pred)"
   ]
  },
  {
   "cell_type": "code",
   "execution_count": 56,
   "id": "649fa80a-0376-4209-a30a-1904c1176b5a",
   "metadata": {},
   "outputs": [
    {
     "data": {
      "text/plain": [
       "0.7410562180579217"
      ]
     },
     "execution_count": 56,
     "metadata": {},
     "output_type": "execute_result"
    }
   ],
   "source": [
    "LR3.score(X_test_norm, y_test)"
   ]
  },
  {
   "cell_type": "markdown",
   "id": "70327106-4ce3-4378-b487-7be469f45801",
   "metadata": {},
   "source": [
    "*Yeah, score still sus...also, my results are exactly what I had for SMOTE so...I dun gon mucked up"
   ]
  },
  {
   "cell_type": "code",
   "execution_count": null,
   "id": "0ec0492f-3a60-4a2a-b03e-fbbbce2e87e6",
   "metadata": {
    "jupyter": {
     "source_hidden": true
    },
    "tags": []
   },
   "outputs": [],
   "source": []
  }
 ],
 "metadata": {
  "kernelspec": {
   "display_name": "Python 3 (ipykernel)",
   "language": "python",
   "name": "python3"
  },
  "language_info": {
   "codemirror_mode": {
    "name": "ipython",
    "version": 3
   },
   "file_extension": ".py",
   "mimetype": "text/x-python",
   "name": "python",
   "nbconvert_exporter": "python",
   "pygments_lexer": "ipython3",
   "version": "3.9.6"
  }
 },
 "nbformat": 4,
 "nbformat_minor": 5
}
